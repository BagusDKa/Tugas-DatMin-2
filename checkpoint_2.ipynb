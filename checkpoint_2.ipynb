{
  "nbformat": 4,
  "nbformat_minor": 0,
  "metadata": {
    "colab": {
      "provenance": [],
      "authorship_tag": "ABX9TyNeTPWLGZ6Esx0qJKxpH50U",
      "include_colab_link": true
    },
    "kernelspec": {
      "name": "python3",
      "display_name": "Python 3"
    },
    "language_info": {
      "name": "python"
    }
  },
  "cells": [
    {
      "cell_type": "markdown",
      "metadata": {
        "id": "view-in-github",
        "colab_type": "text"
      },
      "source": [
        "<a href=\"https://colab.research.google.com/github/BagusDKa/Tugas-DatMin-2/blob/main/checkpoint_2.ipynb\" target=\"_parent\"><img src=\"https://colab.research.google.com/assets/colab-badge.svg\" alt=\"Open In Colab\"/></a>"
      ]
    },
    {
      "cell_type": "code",
      "execution_count": 1,
      "metadata": {
        "id": "tJgqGVkKvWUl"
      },
      "outputs": [],
      "source": [
        "# Import library\n",
        "import pandas as pd\n",
        "import matplotlib.pyplot as plt\n",
        "import seaborn as sns"
      ]
    },
    {
      "cell_type": "code",
      "source": [
        "#read dataset\n",
        "import pandas as pd\n",
        "path =\"/content/business-financial-data-september-2023-quarter.csv\"\n",
        "df =pd.read_csv(path)"
      ],
      "metadata": {
        "id": "D822eLtsvikv"
      },
      "execution_count": 8,
      "outputs": []
    },
    {
      "cell_type": "code",
      "source": [
        "# Describe data\n",
        "description = df.describe()\n",
        "print(description)"
      ],
      "metadata": {
        "colab": {
          "base_uri": "https://localhost:8080/"
        },
        "id": "I8sR4g21vk-D",
        "outputId": "72f05a33-11ff-49cf-e4d8-8470c2761d3a"
      },
      "execution_count": 9,
      "outputs": [
        {
          "output_type": "stream",
          "name": "stdout",
          "text": [
            "            Period    Data_value  Magnitude  Series_title_5\n",
            "count  7155.000000   6520.000000     7155.0             0.0\n",
            "mean   2019.594516   4878.963067        6.0             NaN\n",
            "std       2.175247   7248.031249        0.0             NaN\n",
            "min    2016.060000   -398.194000        6.0             NaN\n",
            "25%    2018.030000    657.659750        6.0             NaN\n",
            "50%    2020.030000   2117.467000        6.0             NaN\n",
            "75%    2021.120000   4624.867000        6.0             NaN\n",
            "max    2023.090000  41541.633000        6.0             NaN\n"
          ]
        }
      ]
    },
    {
      "cell_type": "code",
      "source": [
        "import matplotlib.pyplot as plt\n",
        "import numpy as np\n",
        "\n",
        "plt.style.use('_mpl-gallery')\n",
        "\n",
        "# make data:\n",
        "x = 0.5 + np.arange(8)\n",
        "y = [4.8, 5.5, 3.5, 4.6, 6.5, 6.6, 2.6, 3.0]\n",
        "\n",
        "# plot\n",
        "fig, ax = plt.subplots()\n",
        "\n",
        "ax.bar(x, y, width=1, edgecolor=\"white\", linewidth=0.7)\n",
        "\n",
        "ax.set(xlim=(0, 8), xticks=np.arange(1, 8),\n",
        "       ylim=(0, 8), yticks=np.arange(1, 8))\n",
        "\n",
        "plt.show()"
      ],
      "metadata": {
        "colab": {
          "base_uri": "https://localhost:8080/",
          "height": 251
        },
        "id": "9JAjmez4vlsv",
        "outputId": "3f5ed26f-ade2-4eca-e39a-bb82d3290e90"
      },
      "execution_count": 10,
      "outputs": [
        {
          "output_type": "display_data",
          "data": {
            "text/plain": [
              "<Figure size 200x200 with 1 Axes>"
            ],
            "image/png": "[encoded data removed]"
          },
          "metadata": {}
        }
      ]
    },
    {
      "cell_type": "code",
      "source": [
        "# Pengecekan missing values\n",
        "missing_values = df.isnull().sum()\n",
        "print(\"Missing Values:\\n\", missing_values)\n",
        "# Kesimpulan: Tidak ada missing values pada dataset."
      ],
      "metadata": {
        "colab": {
          "base_uri": "https://localhost:8080/"
        },
        "id": "IdfhVvZFvl8y",
        "outputId": "f971bb2d-90d8-4a94-a479-11f46e3612fd"
      },
      "execution_count": 11,
      "outputs": [
        {
          "output_type": "stream",
          "name": "stdout",
          "text": [
            "Missing Values:\n",
            " Series_reference       0\n",
            "Period                 0\n",
            "Data_value           635\n",
            "Suppressed          7140\n",
            "STATUS                 0\n",
            "UNITS                  0\n",
            "Magnitude              0\n",
            "Subject                0\n",
            "Group                  0\n",
            "Series_title_1         0\n",
            "Series_title_2         0\n",
            "Series_title_3         0\n",
            "Series_title_4         0\n",
            "Series_title_5      7155\n",
            "dtype: int64\n"
          ]
        }
      ]
    },
    {
      "cell_type": "code",
      "source": [
        "# find outlier\n",
        "import matplotlib.pyplot as plt\n",
        "data = [10,20,30,40,50]\n",
        "plt.figure(figsize=(8, 6))\n",
        "sns.boxplot(data=data)\n",
        "plt.title('Boxplot dengan outlier')\n",
        "plt.show()"
      ],
      "metadata": {
        "colab": {
          "base_uri": "https://localhost:8080/",
          "height": 647
        },
        "id": "s47GN94CvmLM",
        "outputId": "a2444748-4119-4bf5-ed31-7ff2e7e25016"
      },
      "execution_count": 12,
      "outputs": [
        {
          "output_type": "display_data",
          "data": {
            "text/plain": [
              "<Figure size 800x600 with 1 Axes>"
            ],
            "image/png": "[encoded data removed]"
          },
          "metadata": {}
        }
      ]
    },
    {
      "cell_type": "code",
      "source": [
        "# Pengecekan duplicate\n",
        "duplicate_rows = df.duplicated().sum()\n",
        "print(\"Jumlah Duplicate Rows:\", duplicate_rows)\n",
        "# Kesimpulan: Tidak ada duplicate rows pada dataset.\n"
      ],
      "metadata": {
        "colab": {
          "base_uri": "https://localhost:8080/"
        },
        "id": "D2weJT2zvmaZ",
        "outputId": "05e797a4-e6d8-4fb5-9e72-39a1dc025c34"
      },
      "execution_count": 13,
      "outputs": [
        {
          "output_type": "stream",
          "name": "stdout",
          "text": [
            "Jumlah Duplicate Rows: 0\n"
          ]
        }
      ]
    }
  ]
}